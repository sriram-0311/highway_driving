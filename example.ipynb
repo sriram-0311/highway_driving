{
 "cells": [
  {
   "cell_type": "code",
   "execution_count": 1,
   "metadata": {},
   "outputs": [
    {
     "ename": "TypeError",
     "evalue": "AbstractEnv.__init__() got an unexpected keyword argument 'render_mdoe' was raised from the environment creator for highway-v0 with kwargs ({'render_mdoe': 'rgb_array'})",
     "output_type": "error",
     "traceback": [
      "\u001b[0;31m---------------------------------------------------------------------------\u001b[0m",
      "\u001b[0;31mTypeError\u001b[0m                                 Traceback (most recent call last)",
      "File \u001b[0;32m~/miniforge3/envs/torch-gpu/lib/python3.10/site-packages/gymnasium/envs/registration.py:802\u001b[0m, in \u001b[0;36mmake\u001b[0;34m(id, max_episode_steps, autoreset, apply_api_compatibility, disable_env_checker, **kwargs)\u001b[0m\n\u001b[1;32m    801\u001b[0m \u001b[39mtry\u001b[39;00m:\n\u001b[0;32m--> 802\u001b[0m     env \u001b[39m=\u001b[39m env_creator(\u001b[39m*\u001b[39;49m\u001b[39m*\u001b[39;49menv_spec_kwargs)\n\u001b[1;32m    803\u001b[0m \u001b[39mexcept\u001b[39;00m \u001b[39mTypeError\u001b[39;00m \u001b[39mas\u001b[39;00m e:\n",
      "\u001b[0;31mTypeError\u001b[0m: AbstractEnv.__init__() got an unexpected keyword argument 'render_mdoe'",
      "\nDuring handling of the above exception, another exception occurred:\n",
      "\u001b[0;31mTypeError\u001b[0m                                 Traceback (most recent call last)",
      "\u001b[1;32m/Users/anushsriramramesh/Library/CloudStorage/OneDrive-NortheasternUniversity/RL/project/highway_driving/example.ipynb Cell 1\u001b[0m line \u001b[0;36m6\n\u001b[1;32m      <a href='vscode-notebook-cell:/Users/anushsriramramesh/Library/CloudStorage/OneDrive-NortheasternUniversity/RL/project/highway_driving/example.ipynb#W0sZmlsZQ%3D%3D?line=2'>3</a>\u001b[0m \u001b[39mimport\u001b[39;00m \u001b[39mmatplotlib\u001b[39;00m\u001b[39m.\u001b[39;00m\u001b[39mpyplot\u001b[39;00m \u001b[39mas\u001b[39;00m \u001b[39mplt\u001b[39;00m\n\u001b[1;32m      <a href='vscode-notebook-cell:/Users/anushsriramramesh/Library/CloudStorage/OneDrive-NortheasternUniversity/RL/project/highway_driving/example.ipynb#W0sZmlsZQ%3D%3D?line=3'>4</a>\u001b[0m get_ipython()\u001b[39m.\u001b[39mrun_line_magic(\u001b[39m'\u001b[39m\u001b[39mmatplotlib\u001b[39m\u001b[39m'\u001b[39m, \u001b[39m'\u001b[39m\u001b[39minline\u001b[39m\u001b[39m'\u001b[39m)\n\u001b[0;32m----> <a href='vscode-notebook-cell:/Users/anushsriramramesh/Library/CloudStorage/OneDrive-NortheasternUniversity/RL/project/highway_driving/example.ipynb#W0sZmlsZQ%3D%3D?line=5'>6</a>\u001b[0m env \u001b[39m=\u001b[39m gym\u001b[39m.\u001b[39;49mmake(\u001b[39m'\u001b[39;49m\u001b[39mhighway-v0\u001b[39;49m\u001b[39m'\u001b[39;49m, render_mdoe\u001b[39m=\u001b[39;49m\u001b[39m'\u001b[39;49m\u001b[39mrgb_array\u001b[39;49m\u001b[39m'\u001b[39;49m)\n\u001b[1;32m      <a href='vscode-notebook-cell:/Users/anushsriramramesh/Library/CloudStorage/OneDrive-NortheasternUniversity/RL/project/highway_driving/example.ipynb#W0sZmlsZQ%3D%3D?line=6'>7</a>\u001b[0m env\u001b[39m.\u001b[39mreset()\n\u001b[1;32m      <a href='vscode-notebook-cell:/Users/anushsriramramesh/Library/CloudStorage/OneDrive-NortheasternUniversity/RL/project/highway_driving/example.ipynb#W0sZmlsZQ%3D%3D?line=8'>9</a>\u001b[0m \u001b[39mfor\u001b[39;00m _ \u001b[39min\u001b[39;00m \u001b[39mrange\u001b[39m(\u001b[39m3\u001b[39m):\n",
      "File \u001b[0;32m~/miniforge3/envs/torch-gpu/lib/python3.10/site-packages/gymnasium/envs/registration.py:814\u001b[0m, in \u001b[0;36mmake\u001b[0;34m(id, max_episode_steps, autoreset, apply_api_compatibility, disable_env_checker, **kwargs)\u001b[0m\n\u001b[1;32m    808\u001b[0m         \u001b[39mraise\u001b[39;00m error\u001b[39m.\u001b[39mError(\n\u001b[1;32m    809\u001b[0m             \u001b[39mf\u001b[39m\u001b[39m\"\u001b[39m\u001b[39mYou passed render_mode=\u001b[39m\u001b[39m'\u001b[39m\u001b[39mhuman\u001b[39m\u001b[39m'\u001b[39m\u001b[39m although \u001b[39m\u001b[39m{\u001b[39;00menv_spec\u001b[39m.\u001b[39mid\u001b[39m}\u001b[39;00m\u001b[39m doesn\u001b[39m\u001b[39m'\u001b[39m\u001b[39mt implement human-rendering natively. \u001b[39m\u001b[39m\"\u001b[39m\n\u001b[1;32m    810\u001b[0m             \u001b[39m\"\u001b[39m\u001b[39mGym tried to apply the HumanRendering wrapper but it looks like your environment is using the old \u001b[39m\u001b[39m\"\u001b[39m\n\u001b[1;32m    811\u001b[0m             \u001b[39m\"\u001b[39m\u001b[39mrendering API, which is not supported by the HumanRendering wrapper.\u001b[39m\u001b[39m\"\u001b[39m\n\u001b[1;32m    812\u001b[0m         ) \u001b[39mfrom\u001b[39;00m \u001b[39me\u001b[39;00m\n\u001b[1;32m    813\u001b[0m     \u001b[39melse\u001b[39;00m:\n\u001b[0;32m--> 814\u001b[0m         \u001b[39mraise\u001b[39;00m \u001b[39mtype\u001b[39m(e)(\n\u001b[1;32m    815\u001b[0m             \u001b[39mf\u001b[39m\u001b[39m\"\u001b[39m\u001b[39m{\u001b[39;00me\u001b[39m}\u001b[39;00m\u001b[39m was raised from the environment creator for \u001b[39m\u001b[39m{\u001b[39;00menv_spec\u001b[39m.\u001b[39mid\u001b[39m}\u001b[39;00m\u001b[39m with kwargs (\u001b[39m\u001b[39m{\u001b[39;00menv_spec_kwargs\u001b[39m}\u001b[39;00m\u001b[39m)\u001b[39m\u001b[39m\"\u001b[39m\n\u001b[1;32m    816\u001b[0m         )\n\u001b[1;32m    818\u001b[0m \u001b[39m# Set the minimal env spec for the environment.\u001b[39;00m\n\u001b[1;32m    819\u001b[0m env\u001b[39m.\u001b[39munwrapped\u001b[39m.\u001b[39mspec \u001b[39m=\u001b[39m EnvSpec(\n\u001b[1;32m    820\u001b[0m     \u001b[39mid\u001b[39m\u001b[39m=\u001b[39menv_spec\u001b[39m.\u001b[39mid,\n\u001b[1;32m    821\u001b[0m     entry_point\u001b[39m=\u001b[39menv_spec\u001b[39m.\u001b[39mentry_point,\n\u001b[0;32m   (...)\u001b[0m\n\u001b[1;32m    831\u001b[0m     vector_entry_point\u001b[39m=\u001b[39menv_spec\u001b[39m.\u001b[39mvector_entry_point,\n\u001b[1;32m    832\u001b[0m )\n",
      "\u001b[0;31mTypeError\u001b[0m: AbstractEnv.__init__() got an unexpected keyword argument 'render_mdoe' was raised from the environment creator for highway-v0 with kwargs ({'render_mdoe': 'rgb_array'})"
     ]
    }
   ],
   "source": [
    "import gymnasium as gym\n",
    "import numpy as np\n",
    "import matplotlib.pyplot as plt\n",
    "%matplotlib inline\n",
    "\n",
    "env = gym.make('highway-v0', render_mode='rgb_array')\n",
    "env.reset()\n",
    "\n",
    "for _ in range(3):\n",
    "    action = env.action_type.actions_indexes['IDLE']\n",
    "    obs, reward, done, _, info = env.step(action)\n",
    "    env.render()\n",
    "\n",
    "plt.imshow(env.render())\n",
    "plt.show()"
   ]
  },
  {
   "cell_type": "code",
   "execution_count": null,
   "metadata": {},
   "outputs": [],
   "source": []
  }
 ],
 "metadata": {
  "kernelspec": {
   "display_name": "torch-gpu",
   "language": "python",
   "name": "python3"
  },
  "language_info": {
   "codemirror_mode": {
    "name": "ipython",
    "version": 3
   },
   "file_extension": ".py",
   "mimetype": "text/x-python",
   "name": "python",
   "nbconvert_exporter": "python",
   "pygments_lexer": "ipython3",
   "version": "3.10.6"
  }
 },
 "nbformat": 4,
 "nbformat_minor": 2
}
